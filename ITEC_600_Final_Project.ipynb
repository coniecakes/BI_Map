{
  "nbformat": 4,
  "nbformat_minor": 0,
  "metadata": {
    "colab": {
      "provenance": [],
      "toc_visible": true,
      "mount_file_id": "1s8vpeSh0ulRU1dtaMUnvihm_nsoJLyjL",
      "authorship_tag": "ABX9TyOkFKO7drwWi1Wp8m0Fj3gG",
      "include_colab_link": true
    },
    "kernelspec": {
      "name": "python3",
      "display_name": "Python 3"
    },
    "language_info": {
      "name": "python"
    }
  },
  "cells": [
    {
      "cell_type": "markdown",
      "metadata": {
        "id": "view-in-github",
        "colab_type": "text"
      },
      "source": [
        "<a href=\"https://colab.research.google.com/github/coniecakes/BI_Map/blob/main/ITEC_600_Final_Project.ipynb\" target=\"_parent\"><img src=\"https://colab.research.google.com/assets/colab-badge.svg\" alt=\"Open In Colab\"/></a>"
      ]
    },
    {
      "cell_type": "markdown",
      "source": [
        "# Final Project for ITEC 600\n",
        "## Building a fraud alert detector\n"
      ],
      "metadata": {
        "id": "A6ybnfYOoVs6"
      }
    },
    {
      "cell_type": "markdown",
      "source": [
        "### Random Forest Model"
      ],
      "metadata": {
        "id": "qrxM63i-sQ9U"
      }
    },
    {
      "cell_type": "code",
      "execution_count": null,
      "metadata": {
        "colab": {
          "base_uri": "https://localhost:8080/"
        },
        "id": "oTQ5ztR7lHai",
        "outputId": "5404fa2e-cda1-4146-b518-8afd08e3efe9"
      },
      "outputs": [
        {
          "output_type": "stream",
          "name": "stdout",
          "text": [
            "Hooray, there are no missing values!\n"
          ]
        }
      ],
      "source": [
        "# import necessary packages\n",
        "import pandas as pd\n",
        "import numpy as np\n",
        "import matplotlib.pyplot as plt\n"
      ]
    },
    {
      "cell_type": "markdown",
      "source": [
        "Import Data and check for missing values"
      ],
      "metadata": {
        "id": "dOhGa8vUn9u6"
      }
    },
    {
      "cell_type": "code",
      "source": [
        "# upload data set\n",
        "data = pd.read_csv('/content/drive/MyDrive/Colab Projects/card_transdata.csv')\n",
        "\n",
        "# calculate missing values that need to be addressed\n",
        "missing_values = data.isna().sum()\n",
        "\n",
        "# check for na values\n",
        "if missing_values.any():\n",
        "  print('There are some missing values here, you better work on that.')\n",
        "else:\n",
        "  print('Hooray, there are no missing values!')"
      ],
      "metadata": {
        "colab": {
          "base_uri": "https://localhost:8080/"
        },
        "id": "0izEgKton6lH",
        "outputId": "00220e56-9d1c-4931-8ac2-b778dc4b702e"
      },
      "execution_count": null,
      "outputs": [
        {
          "output_type": "stream",
          "name": "stdout",
          "text": [
            "Hooray, there are no missing values!\n"
          ]
        }
      ]
    },
    {
      "cell_type": "markdown",
      "source": [
        "After checking for missing values, begin model construction"
      ],
      "metadata": {
        "id": "YBPSVAydoB4U"
      }
    },
    {
      "cell_type": "code",
      "source": [
        "# import necessary packages\n",
        "from sklearn.model_selection import train_test_split\n",
        "from sklearn.ensemble import RandomForestClassifier\n",
        "from sklearn.metrics import accuracy_score, precision_score, recall_score, f1_score, classification_report"
      ],
      "metadata": {
        "id": "m1eaII60oNFJ"
      },
      "execution_count": null,
      "outputs": []
    },
    {
      "cell_type": "code",
      "source": [
        "# separate target variable column from data set\n",
        "X = data.drop('fraud', axis=1)\n",
        "y = data['fraud']\n",
        "random_value = 42\n",
        "\n",
        "# split data into training and testing sets\n",
        "X_train, X_test, y_train, y_test = train_test_split(X, y, test_size=0.3, random_state=random_value)"
      ],
      "metadata": {
        "id": "1FaaHw_VouOP"
      },
      "execution_count": null,
      "outputs": []
    },
    {
      "cell_type": "code",
      "source": [
        "# use random forest to build model\n",
        "rfModel1 = RandomForestClassifier(n_estimators=100, random_state=random_value)\n",
        "rfModel1.fit(X_train, y_train)\n",
        "\n",
        "# make predictions\n",
        "rf1_y_pred = rfModel1.predict(X_test)"
      ],
      "metadata": {
        "id": "_OpqlxrfpZPo"
      },
      "execution_count": null,
      "outputs": []
    },
    {
      "cell_type": "code",
      "source": [
        "# test the model\n",
        "rf1_accuracy = accuracy_score(y_test, rf1_y_pred)\n",
        "rf1_precision = precision_score(y_test, rf1_y_pred)\n",
        "rf1_recall = recall_score(y_test, rf1_y_pred)\n",
        "rf1_f1 = f1_score(y_test, rf1_y_pred)\n",
        "print(f'Accuracy: {rf1_accuracy}')\n",
        "print(f'Precision: {rf1_precision}')\n",
        "print(f'Recall: {rf1_recall}')\n",
        "print(f'F1 Score: {rf1_f1}')"
      ],
      "metadata": {
        "colab": {
          "base_uri": "https://localhost:8080/"
        },
        "id": "b9wKzIOdqtnQ",
        "outputId": "ef893472-79f8-43fc-c0de-f6e5875c453a"
      },
      "execution_count": null,
      "outputs": [
        {
          "output_type": "stream",
          "name": "stdout",
          "text": [
            "Accuracy: 0.9999933333333333\n",
            "Precision: 1.0\n",
            "Recall: 0.9999234566956255\n",
            "F1 Score: 0.9999617268830373\n"
          ]
        }
      ]
    },
    {
      "cell_type": "markdown",
      "source": [
        "### Naive Bayes Model"
      ],
      "metadata": {
        "id": "DTHl6QHssBkV"
      }
    },
    {
      "cell_type": "code",
      "source": [
        "# import necessary packages\n",
        "from sklearn.naive_bayes import GaussianNB"
      ],
      "metadata": {
        "id": "bx-w9w7RsbEN"
      },
      "execution_count": null,
      "outputs": []
    },
    {
      "cell_type": "code",
      "source": [
        "# build an NB model\n",
        "nbModel1 = GaussianNB()\n",
        "nbModel1.fit(X_train, y_train)\n",
        "\n",
        "# make predictions\n",
        "nb1_y_pred = nbModel1.predict(X_test)"
      ],
      "metadata": {
        "id": "ZQvU7dI2sjVu"
      },
      "execution_count": null,
      "outputs": []
    },
    {
      "cell_type": "code",
      "source": [
        "# test the model\n",
        "nb1_accuracy = accuracy_score(y_test, nb1_y_pred)\n",
        "nb1_precision = precision_score(y_test, nb1_y_pred)\n",
        "nb1_recall = recall_score(y_test, nb1_y_pred)\n",
        "nb1_f1 = f1_score(y_test, nb1_y_pred)\n",
        "print(f'Accuracy: {nb1_accuracy}')\n",
        "print(f'Precision: {nb1_precision}')\n",
        "print(f'Recall: {nb1_recall}')\n",
        "print(f'F1 Score: {nb1_f1}')"
      ],
      "metadata": {
        "colab": {
          "base_uri": "https://localhost:8080/"
        },
        "id": "7KidvA-QsqNi",
        "outputId": "b3e42852-c478-4c23-bfcb-5bc669b76461"
      },
      "execution_count": null,
      "outputs": [
        {
          "output_type": "stream",
          "name": "stdout",
          "text": [
            "Accuracy: 0.9516033333333334\n",
            "Precision: 0.7890360485958973\n",
            "Recall: 0.6064908722109533\n",
            "F1 Score: 0.6858243351437907\n"
          ]
        }
      ]
    },
    {
      "cell_type": "markdown",
      "source": [
        "### Gradient Boosting Machine (GBM)"
      ],
      "metadata": {
        "id": "5rPl9pn9tF6X"
      }
    },
    {
      "cell_type": "code",
      "source": [
        "# import necessary packages\n",
        "from sklearn.ensemble import GradientBoostingClassifier"
      ],
      "metadata": {
        "id": "0l2zCzm9uO5R"
      },
      "execution_count": null,
      "outputs": []
    },
    {
      "cell_type": "code",
      "source": [
        "# build a GBM model\n",
        "gbmModel1 = GradientBoostingClassifier(n_estimators=100, random_state=random_value)\n",
        "gbmModel1.fit(X_train, y_train)\n",
        "\n",
        "# make predictions\n",
        "gbm1_y_pred = gbmModel1.predict(X_test)"
      ],
      "metadata": {
        "id": "ZGxLk93DuSTi"
      },
      "execution_count": null,
      "outputs": []
    },
    {
      "cell_type": "code",
      "source": [
        "# test the model\n",
        "gbm1_accuracy = accuracy_score(y_test, gbm1_y_pred)\n",
        "gbm1_precision = precision_score(y_test, gbm1_y_pred)\n",
        "gbm1_recall = recall_score(y_test, gbm1_y_pred)\n",
        "gbm1_f1 = f1_score(y_test, gbm1_y_pred)\n",
        "print(f'Accuracy: {gbm1_accuracy}')\n",
        "print(f'Precision: {gbm1_precision}')\n",
        "print(f'Recall: {gbm1_recall}')\n",
        "print(f'F1 Score: {gbm1_f1}')"
      ],
      "metadata": {
        "colab": {
          "base_uri": "https://localhost:8080/"
        },
        "id": "q4-vyem90VWw",
        "outputId": "b6410df8-501f-45f2-88e4-d77fc9a65504"
      },
      "execution_count": null,
      "outputs": [
        {
          "output_type": "stream",
          "name": "stdout",
          "text": [
            "Accuracy: 0.99973\n",
            "Precision: 0.9993482094931371\n",
            "Recall: 0.9975506142600176\n",
            "F1 Score: 0.9984486027848538\n"
          ]
        }
      ]
    }
  ]
}